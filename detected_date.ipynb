{
  "nbformat": 4,
  "nbformat_minor": 0,
  "metadata": {
    "colab": {
      "provenance": [],
      "authorship_tag": "ABX9TyOu93SGjcuSNlO4NNzIePGe",
      "include_colab_link": true
    },
    "kernelspec": {
      "name": "python3",
      "display_name": "Python 3"
    },
    "language_info": {
      "name": "python"
    }
  },
  "cells": [
    {
      "cell_type": "markdown",
      "metadata": {
        "id": "view-in-github",
        "colab_type": "text"
      },
      "source": [
        "<a href=\"https://colab.research.google.com/github/Benettmak/rec_cheques/blob/master/detected_date.ipynb\" target=\"_parent\"><img src=\"https://colab.research.google.com/assets/colab-badge.svg\" alt=\"Open In Colab\"/></a>"
      ]
    },
    {
      "cell_type": "code",
      "source": [
        "import re\n",
        "\n",
        "def detect_date_format(date_str):\n",
        "    # English date format: MM/DD/YYYY or M/D/YYYY or MM/DD/YY or M/D/YY or MM.DD.YYYY or M.D.YYYY or MM.DD.YY or M.D.YY\n",
        "    en_date_regex = r'^(\\d{1,2})[./\\-\\\\,](\\d{1,2})[./\\-\\\\,](\\d{2,4})$'\n",
        "    # French date format: DD/MM/YYYY or D/M/YYYY or DD/MM/YY or D/M/YY or DD.MM.YYYY or D.M.YYYY or DD.MM.YY or D.M.YY\n",
        "    fr_date_regex = r'^(\\d{1,2})[./\\-\\\\,](\\d{1,2})[./\\-\\\\,](\\d{2,4})$'\n",
        "\n",
        "    en_date_match = re.match(en_date_regex, date_str)\n",
        "    fr_date_match = re.match(fr_date_regex, date_str)\n",
        "\n",
        "    if en_date_match:\n",
        "        month = en_date_match.group(1)\n",
        "        day = en_date_match.group(2)\n",
        "        year = en_date_match.group(3)\n",
        "        return f'English ({month}/{day}/{year})'\n",
        "\n",
        "    elif fr_date_match:\n",
        "        day = fr_date_match.group(1)\n",
        "        month = fr_date_match.group(2)\n",
        "        year = fr_date_match.group(3)\n",
        "        return f'French ({day}/{month}/{year})'\n",
        "\n",
        "    else:\n",
        "        return 'Unknown'\n"
      ],
      "metadata": {
        "id": "0Sgxr61_MmBk"
      },
      "execution_count": 1,
      "outputs": []
    },
    {
      "cell_type": "code",
      "source": [
        "# function to convert date from English format (MM/DD/YYYY) to French format (DD/MM/YYYY)\n",
        "def convert_en_to_fr_date(date_str):\n",
        "    en_date_regex = r'^(\\d{1,2})[./\\-\\\\,](\\d{1,2})[./\\-\\\\,](\\d{2,4})$'\n",
        "    en_date_match = re.match(en_date_regex, date_str)\n",
        "\n",
        "    if en_date_match:\n",
        "        month = en_date_match.group(1)\n",
        "        day = en_date_match.group(2)\n",
        "        year = en_date_match.group(3)\n",
        "\n",
        "        # convert to French format (DD/MM/YYYY)\n",
        "        fr_date_str = f'{day}/{month}/{year}'\n",
        "        return fr_date_str\n",
        "\n",
        "    else:\n",
        "        return None\n"
      ],
      "metadata": {
        "id": "jQfdweW7M5ER"
      },
      "execution_count": 2,
      "outputs": []
    },
    {
      "cell_type": "code",
      "source": [
        "\n",
        "# example usage\n",
        "date1 = '03/14/2023' # English format with slash\n",
        "date2 = '14/03/2023' # French format with slash\n",
        "date3 = '3-14-23'    # English format with hyphen\n",
        "date4 = '14-3-23'    # French format with hyphen\n",
        "date5 = '14\\\\3\\\\2023'    # French format with backslash\n",
        "date6 = '3\\\\14\\\\23'    # English format with backslash\n",
        "date7 = '14,04,2023' # English format with comma\n",
        "date8 = '14.04.2023' # French format with dot"
      ],
      "metadata": {
        "id": "99Y16JYaNAHX"
      },
      "execution_count": 3,
      "outputs": []
    },
    {
      "cell_type": "code",
      "source": [
        "detected_format1 = detect_date_format(date1)\n",
        "detected_format2 = detect_date_format(date2)\n",
        "detected_format3 = detect_date_format(date3)\n",
        "detected_format4 = detect_date_format(date4)\n",
        "detected_format5 = detect_date_format(date5)\n",
        "detected_format6 = detect_date_format(date6)\n",
        "detected_format7 = detect_date_format(date7)\n",
        "detected_format8 = detect_date_format(date8)"
      ],
      "metadata": {
        "id": "1Jjj9tQRNHkW"
      },
      "execution_count": 4,
      "outputs": []
    },
    {
      "cell_type": "code",
      "source": [
        "print(f'{detected_format8} (converted to French format): {convert_en_to_fr_date(date8)}')\n"
      ],
      "metadata": {
        "colab": {
          "base_uri": "https://localhost:8080/"
        },
        "id": "QZ-YrU_wNO2e",
        "outputId": "0d8b4f8d-01d7-4492-8ee0-332f29e1d61a"
      },
      "execution_count": 7,
      "outputs": [
        {
          "output_type": "stream",
          "name": "stdout",
          "text": [
            "English (14/04/2023) (converted to French format): 04/14/2023\n"
          ]
        }
      ]
    },
    {
      "cell_type": "code",
      "source": [
        "print(detected_format1 )"
      ],
      "metadata": {
        "colab": {
          "base_uri": "https://localhost:8080/"
        },
        "id": "QmZeYJXLNuY6",
        "outputId": "643b3dac-6f19-4657-b2c1-d55aba64e74f"
      },
      "execution_count": 11,
      "outputs": [
        {
          "output_type": "stream",
          "name": "stdout",
          "text": [
            "English (03/14/2023)\n"
          ]
        }
      ]
    }
  ]
}